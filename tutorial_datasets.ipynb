{
 "cells": [
  {
   "cell_type": "markdown",
   "metadata": {},
   "source": [
    "Datasets https://dcase-repo.github.io/dcase_util/tutorial_datasets.html"
   ]
  },
  {
   "cell_type": "code",
   "execution_count": 1,
   "metadata": {},
   "outputs": [],
   "source": [
    "import dcase_util as du\n",
    "import numpy as np\n",
    "import matplotlib.pyplot as plt\n",
    "import numpy.random as rnd\n",
    "import librosa\n",
    "import librosa.display as disp"
   ]
  },
  {
   "cell_type": "markdown",
   "metadata": {},
   "source": [
    "Datasets https://dcase-repo.github.io/dcase_util/tutorial_datasets.html"
   ]
  },
  {
   "cell_type": "code",
   "execution_count": 2,
   "metadata": {},
   "outputs": [
    {
     "name": "stdout",
     "output_type": "stream",
     "text": [
      "  Dataset list\n",
      "  Class Name                                 | Group | Remote     | Local  | Audio | Scenes | Events | Tags\n",
      "  ------------------------------------------ | ----- | ---------- | ------ | ----- | ------ | ------ | ----\n",
      "  DCASE2013_Scenes_DevelopmentSet            | scene | 345 MB     |        |       |        |        |     \n",
      "  DCASE2013_Scenes_EvaluationSet             | scene | 354.8 MB   |        |       |        |        |     \n",
      "  DCASE2018_Task5_DevelopmentSet             | scene | 42.66 GB   |        |       |        |        |     \n",
      "  TUTAcousticScenes_2016_DevelopmentSet      | scene | 7.473 GB   |        |       |        |        |     \n",
      "  TUTAcousticScenes_2016_EvaluationSet       | scene | 2.491 GB   |        |       |        |        |     \n",
      "  TUTAcousticScenes_2017_DevelopmentSet      | scene | 9.966 GB   |        |       |        |        |     \n",
      "  TUTAcousticScenes_2017_EvaluationSet       | scene | 3.352 GB   |        |       |        |        |     \n",
      "  DCASE2017_Task4tagging_DevelopmentSet      | event | 5.16 MB    |        |       |        |        |     \n",
      "  DCASE2017_Task4tagging_EvaluationSet       | event | 823.1 MB   |        |       |        |        |     \n",
      "  TUTRareSoundEvents_2017_DevelopmentSet     | event | 7.75 GB    |        |       |        | 3      |     \n",
      "  TUTRareSoundEvents_2017_EvaluationSet      | event | 4.28 GB    |        |       |        | 3      |     \n",
      "  TUTSoundEvents_2016_DevelopmentSet         | event | 967.2 MB   |        |       |        |        |     \n",
      "  TUTSoundEvents_2016_EvaluationSet          | event | 449.4 MB   |        |       |        |        |     \n",
      "  TUTSoundEvents_2017_DevelopmentSet         | event | 1.188 GB   |        |       |        |        |     \n",
      "  TUTSoundEvents_2017_EvaluationSet          | event | 370.2 MB   |        |       |        |        |     \n",
      "  TUT_SED_Synthetic_2016                     | event | 4.566 GB   |        |       |        |        |     \n",
      "  CHiMEHome_DomesticAudioTag_DevelopmentSet  | tag   | 3.877 GB   |        |       |        |        |     \n",
      "  CHiMEHome_DomesticAudioTag_EvaluationSet   | tag   | 3.877 GB   |        |       |        |        |     \n",
      "\n"
     ]
    }
   ],
   "source": [
    "print(du.datasets.dataset_list())"
   ]
  },
  {
   "cell_type": "code",
   "execution_count": 11,
   "metadata": {},
   "outputs": [
    {
     "name": "stdout",
     "output_type": "stream",
     "text": [
      "\n",
      "Download packages        :   0%|                                                                                   | 0/11 [00:00<?, ?it/s]\n",
      "                                                                                                                                          \n",
      "Extract packages         :   0%|                                                                                   | 0/11 [00:00<?, ?it/s]\n",
      "\n",
      "Extract                  :   0%|                                                                                   | 0/11 [00:00<?, ?it/s]\n",
      "\n",
      "                                   :   0%|                                                                         | 0/11 [00:00<?, ?it/s]\n",
      "\n",
      "                 affected_files.txt:   9%|#####8                                                          | 1/11 [00:00<00:00, 142.85it/s]\n",
      "\n",
      "                            core.py:  18%|###########6                                                    | 2/11 [00:00<00:00, 166.66it/s]\n",
      "\n",
      "         dcase2017_task2_patcher.py:  27%|#################4                                              | 3/11 [00:00<00:00, 166.66it/s]\n",
      "\n",
      "                           EULA.pdf:  36%|#######################2                                        | 4/11 [00:00<00:00, 148.14it/s]\n",
      "\n",
      "       generate_devtest_mixtures.py:  45%|#############################                                   | 5/11 [00:00<00:00, 138.88it/s]\n",
      "\n",
      "      generate_devtrain_mixtures.py:  55%|##################################9                             | 6/11 [00:00<00:00, 146.33it/s]\n",
      "\n",
      "                 mixing_params.yaml:  64%|########################################7                       | 7/11 [00:00<00:00, 148.93it/s]\n",
      "\n",
      "mixing_params_devtest_dcase_fixed.yaml:  73%|############################################3                | 8/11 [00:00<00:00, 137.92it/s]\n",
      "\n",
      "                   requirements.txt:  82%|####################################################3           | 9/11 [00:00<00:00, 136.36it/s]\n",
      "\n",
      "                                                                                                                                          \n",
      "                                                                                                                                          \n",
      "Set                      :   0%|                                                                                    | 0/2 [00:00<?, ?it/s]"
     ]
    },
    {
     "name": "stderr",
     "output_type": "stream",
     "text": [
      "[I]   Set             [train                         ]\n",
      "[I]   Set             [test                          ]\n"
     ]
    },
    {
     "name": "stdout",
     "output_type": "stream",
     "text": [
      "\n",
      "                                                                                                                                          DictContainer :: Class\n",
      "  audio_source                      : Synthetic\n",
      "  audio_type                        : Natural\n",
      "  authors                           : Aleksandr Diment, Annamaria Mesaros, Toni Heittola, and Tuomas Virtanen\n",
      "  microphone_model                  : Unknown\n",
      "  recording_device_model            : Unknown\n",
      "  title                             : TUT Rare Sound Events 2017, development dataset\n",
      "  url                               : None\n",
      "\n",
      "MetaDataContainer :: Class\n",
      "  Filename                          : E:\\zanco\\TCC\\DCASE2017-base\\applications\\data\\TUT-rare-sound-events-2017-development\\meta_2d1dad5660d2b703b0ce50282acc6098.txt \n",
      "  Items                             : 2981 \n",
      "  Unique\n",
      "    Files                           : 2981 \n",
      "    Scene labels                    : 1 \n",
      "    Event labels                    : 3 \n",
      "    Tags                            : 0 \n",
      "\n",
      "  Scene statistics\n",
      "        Scene label             Count   Identifiers   \n",
      "        --------------------   ------   -----------   \n",
      "        synthetic                2981             0   \n",
      "\n",
      "  Event statistics\n",
      "        Event label             Count   Tot. Length   Avg. Length   \n",
      "        --------------------   ------   -----------   -----------   \n",
      "        babycry                   488       1044.16          2.14   \n",
      "        glassbreak                499        541.66          1.09   \n",
      "        gunshot                   499        638.94          1.28   \n",
      "\n",
      "\n"
     ]
    }
   ],
   "source": [
    "import tempfile\n",
    "\n",
    "path = 'E:\\\\zanco\\\\TCC\\\\DCASE2017-base\\\\applications\\\\data'\n",
    "\n",
    "db = du.datasets.TUTRareSoundEvents_2017_DevelopmentSet(\n",
    "    data_path=path,\n",
    "    included_content_types=['meta']\n",
    ")\n",
    "db.initialize()\n",
    "db.show()"
   ]
  },
  {
   "cell_type": "code",
   "execution_count": null,
   "metadata": {},
   "outputs": [],
   "source": []
  }
 ],
 "metadata": {
  "kernelspec": {
   "display_name": "Python 3",
   "language": "python",
   "name": "python3"
  },
  "language_info": {
   "codemirror_mode": {
    "name": "ipython",
    "version": 3
   },
   "file_extension": ".py",
   "mimetype": "text/x-python",
   "name": "python",
   "nbconvert_exporter": "python",
   "pygments_lexer": "ipython3",
   "version": "3.6.5"
  }
 },
 "nbformat": 4,
 "nbformat_minor": 2
}
