{
 "cells": [
  {
   "cell_type": "markdown",
   "metadata": {},
   "source": [
    "Datasets https://dcase-repo.github.io/dcase_util/tutorial_datasets.html"
   ]
  },
  {
   "cell_type": "code",
   "execution_count": 1,
   "metadata": {},
   "outputs": [],
   "source": [
    "import dcase_util as du\n",
    "import numpy as np\n",
    "import matplotlib.pyplot as plt\n",
    "import numpy.random as rnd\n",
    "import librosa\n",
    "import librosa.display as disp"
   ]
  },
  {
   "cell_type": "markdown",
   "metadata": {},
   "source": [
    "Datasets https://dcase-repo.github.io/dcase_util/tutorial_datasets.html"
   ]
  },
  {
   "cell_type": "code",
   "execution_count": 2,
   "metadata": {
    "scrolled": true
   },
   "outputs": [
    {
     "name": "stdout",
     "output_type": "stream",
     "text": [
      "  Dataset list\n",
      "  Class Name                                 | Group | Remote     | Local  | Audio | Scenes | Events | Tags\n",
      "  ------------------------------------------ | ----- | ---------- | ------ | ----- | ------ | ------ | ----\n",
      "  DCASE2013_Scenes_DevelopmentSet            | scene | 345 MB     |        |       |        |        |     \n",
      "  DCASE2013_Scenes_EvaluationSet             | scene | 354.8 MB   |        |       |        |        |     \n",
      "  DCASE2018_Task5_DevelopmentSet             | scene | 42.66 GB   |        |       |        |        |     \n",
      "  TUTAcousticScenes_2016_DevelopmentSet      | scene | 7.473 GB   |        |       |        |        |     \n",
      "  TUTAcousticScenes_2016_EvaluationSet       | scene | 2.491 GB   |        |       |        |        |     \n",
      "  TUTAcousticScenes_2017_DevelopmentSet      | scene | 9.966 GB   |        |       |        |        |     \n",
      "  TUTAcousticScenes_2017_EvaluationSet       | scene | 3.352 GB   |        |       |        |        |     \n",
      "  DCASE2017_Task4tagging_DevelopmentSet      | event | 5.16 MB    |        |       |        |        |     \n",
      "  DCASE2017_Task4tagging_EvaluationSet       | event | 823.1 MB   |        |       |        |        |     \n",
      "  TUTRareSoundEvents_2017_DevelopmentSet     | event | 7.75 GB    |        |       |        | 3      |     \n",
      "  TUTRareSoundEvents_2017_EvaluationSet      | event | 4.28 GB    |        |       |        | 3      |     \n",
      "  TUTSoundEvents_2016_DevelopmentSet         | event | 967.2 MB   |        |       |        |        |     \n",
      "  TUTSoundEvents_2016_EvaluationSet          | event | 449.4 MB   |        |       |        |        |     \n",
      "  TUTSoundEvents_2017_DevelopmentSet         | event | 1.188 GB   |        |       |        |        |     \n",
      "  TUTSoundEvents_2017_EvaluationSet          | event | 370.2 MB   |        |       |        |        |     \n",
      "  TUT_SED_Synthetic_2016                     | event | 4.566 GB   |        |       |        |        |     \n",
      "  CHiMEHome_DomesticAudioTag_DevelopmentSet  | tag   | 3.877 GB   |        |       |        |        |     \n",
      "  CHiMEHome_DomesticAudioTag_EvaluationSet   | tag   | 3.877 GB   |        |       |        |        |     \n",
      "\n"
     ]
    }
   ],
   "source": [
    "print(du.datasets.dataset_list())"
   ]
  },
  {
   "cell_type": "code",
   "execution_count": 10,
   "metadata": {
    "scrolled": true
   },
   "outputs": [
    {
     "name": "stdout",
     "output_type": "stream",
     "text": [
      "DictContainer :: Class\n",
      "  audio_source                      : Synthetic\n",
      "  audio_type                        : Natural\n",
      "  authors                           : Aleksandr Diment, Annamaria Mesaros, Toni Heittola, and Tuomas Virtanen\n",
      "  microphone_model                  : Unknown\n",
      "  recording_device_model            : Unknown\n",
      "  title                             : TUT Rare Sound Events 2017, development dataset\n",
      "  url                               : None\n",
      "\n",
      "MetaDataContainer :: Class\n",
      "  Filename                          : D:\\Documents\\UFSC\\TCC\\datasets\\TUT-rare-sound-events-2017-development\\meta_2d1dad5660d2b703b0ce50282acc6098.txt \n",
      "  Items                             : 2981 \n",
      "  Unique\n",
      "    Files                           : 2981 \n",
      "    Scene labels                    : 1 \n",
      "    Event labels                    : 3 \n",
      "    Tags                            : 0 \n",
      "\n",
      "  Scene statistics\n",
      "        Scene label             Count   Identifiers   \n",
      "        --------------------   ------   -----------   \n",
      "        synthetic                2981             0   \n",
      "\n",
      "  Event statistics\n",
      "        Event label             Count   Tot. Length   Avg. Length   \n",
      "        --------------------   ------   -----------   -----------   \n",
      "        babycry                   488       1044.16          2.14   \n",
      "        glassbreak                499        541.66          1.09   \n",
      "        gunshot                   499        638.94          1.28   \n",
      "\n",
      "\n"
     ]
    }
   ],
   "source": [
    "data_path = 'D:\\\\Documents\\\\UFSC\\\\TCC\\\\datasets'\n",
    "\n",
    "db = du.datasets.TUTRareSoundEvents_2017_DevelopmentSet(\n",
    "    data_path=data_path,\n",
    "    included_content_types=['all']\n",
    ")\n",
    "# db.initialize()\n",
    "\n",
    "# db = du.datasets.TUTAcousticScenes_2016_DevelopmentSet(\n",
    "#     data_path=data_path,\n",
    "#     included_content_types=['meta']\n",
    "# )\n",
    "# db.initialize()\n",
    "\n",
    "db.show()"
   ]
  },
  {
   "cell_type": "markdown",
   "metadata": {},
   "source": [
    "Cross Validation Setup https://dcase-repo.github.io/dcase_util/tutorial_datasets.html#cross-validation-setup"
   ]
  },
  {
   "cell_type": "code",
   "execution_count": 11,
   "metadata": {},
   "outputs": [
    {
     "name": "stdout",
     "output_type": "stream",
     "text": [
      "MetaDataContainer :: Class\n",
      "  Items                             : 1488 \n",
      "  Unique\n",
      "    Files                           : 1488 \n",
      "    Scene labels                    : 1 \n",
      "    Event labels                    : 3 \n",
      "    Tags                            : 0 \n",
      "\n",
      "  Scene statistics\n",
      "        Scene label             Count   Identifiers   \n",
      "        --------------------   ------   -----------   \n",
      "        synthetic                1488             0   \n",
      "\n",
      "  Event statistics\n",
      "        Event label             Count   Tot. Length   Avg. Length   \n",
      "        --------------------   ------   -----------   -----------   \n",
      "        babycry                   242        591.84          2.45   \n",
      "        glassbreak                249        359.22          1.44   \n",
      "        gunshot                   250        364.54          1.46   \n",
      "\n",
      "\n"
     ]
    }
   ],
   "source": [
    "### To get training material for the fold 1:\n",
    "\n",
    "training_material = db.train(fold=1)\n",
    "training_material.show()"
   ]
  },
  {
   "cell_type": "code",
   "execution_count": 12,
   "metadata": {},
   "outputs": [
    {
     "name": "stdout",
     "output_type": "stream",
     "text": [
      "MetaDataContainer :: Class\n",
      "  Items                             : 1493 \n",
      "  Unique\n",
      "    Files                           : 1493 \n",
      "    Scene labels                    : 1 \n",
      "    Event labels                    : 0 \n",
      "    Tags                            : 0 \n",
      "\n",
      "  Scene statistics\n",
      "        Scene label             Count   Identifiers   \n",
      "        --------------------   ------   -----------   \n",
      "        synthetic                1493             0   \n",
      "\n",
      "\n"
     ]
    }
   ],
   "source": [
    "### To get testing material for the fold 1 (material without reference data):\n",
    "\n",
    "testing_material = db.test(fold=1)\n",
    "testing_material.show()"
   ]
  },
  {
   "cell_type": "code",
   "execution_count": 13,
   "metadata": {},
   "outputs": [
    {
     "name": "stdout",
     "output_type": "stream",
     "text": [
      "MetaDataContainer :: Class\n",
      "  Items                             : 1493 \n",
      "  Unique\n",
      "    Files                           : 1493 \n",
      "    Scene labels                    : 1 \n",
      "    Event labels                    : 3 \n",
      "    Tags                            : 0 \n",
      "\n",
      "  Scene statistics\n",
      "        Scene label             Count   Identifiers   \n",
      "        --------------------   ------   -----------   \n",
      "        synthetic                1493             0   \n",
      "\n",
      "  Event statistics\n",
      "        Event label             Count   Tot. Length   Avg. Length   \n",
      "        --------------------   ------   -----------   -----------   \n",
      "        babycry                   246        452.32          1.84   \n",
      "        glassbreak                250        182.44          0.73   \n",
      "        gunshot                   249        274.40          1.10   \n",
      "\n",
      "\n"
     ]
    }
   ],
   "source": [
    "### To get testing material for the fold 1 with full reference data:\n",
    "\n",
    "eval_material = db.eval(fold=1)\n",
    "eval_material.show()"
   ]
  },
  {
   "cell_type": "code",
   "execution_count": 14,
   "metadata": {},
   "outputs": [
    {
     "name": "stdout",
     "output_type": "stream",
     "text": [
      "MetaDataContainer :: Class\n",
      "  Filename                          : D:\\Documents\\UFSC\\TCC\\datasets\\TUT-rare-sound-events-2017-development\\meta_2d1dad5660d2b703b0ce50282acc6098.txt \n",
      "  Items                             : 2981 \n",
      "  Unique\n",
      "    Files                           : 2981 \n",
      "    Scene labels                    : 1 \n",
      "    Event labels                    : 3 \n",
      "    Tags                            : 0 \n",
      "\n",
      "  Scene statistics\n",
      "        Scene label             Count   Identifiers   \n",
      "        --------------------   ------   -----------   \n",
      "        synthetic                2981             0   \n",
      "\n",
      "  Event statistics\n",
      "        Event label             Count   Tot. Length   Avg. Length   \n",
      "        --------------------   ------   -----------   -----------   \n",
      "        babycry                   488       1044.16          2.14   \n",
      "        glassbreak                499        541.66          1.09   \n",
      "        gunshot                   499        638.94          1.28   \n",
      "\n",
      "\n"
     ]
    }
   ],
   "source": [
    "### To get all data, set fold to None:\n",
    "\n",
    "all_material = db.train(fold=None)\n",
    "all_material.show()"
   ]
  },
  {
   "cell_type": "code",
   "execution_count": 15,
   "metadata": {},
   "outputs": [
    {
     "name": "stdout",
     "output_type": "stream",
     "text": []
    }
   ],
   "source": [
    "### Generating balanced validation set (balancing done so that recording from\n",
    "### same location are assigned to same set) for fold 1:\n",
    "\n",
    "training_files, validation_files = db.validation_split(\n",
    "    fold=1,\n",
    "    split_type='balanced',\n",
    "    validation_amount=0.3\n",
    ")"
   ]
  },
  {
   "cell_type": "code",
   "execution_count": 24,
   "metadata": {},
   "outputs": [
    {
     "name": "stdout",
     "output_type": "stream",
     "text": [
      "1041 447 0.3004032258064516\n"
     ]
    }
   ],
   "source": [
    "lenTrain, lenVal = len(training_files), len(validation_files)\n",
    "print(lenTrain, lenVal, lenVal/(lenVal+lenTrain))"
   ]
  },
  {
   "cell_type": "code",
   "execution_count": 27,
   "metadata": {},
   "outputs": [],
   "source": [
    "### Getting validation set provided with dataset (dataset used in the \n",
    "### example does not provide it, and this will raise an error.):\n",
    "\n",
    "# training_files, validation_files = db.validation_split(\n",
    "#     fold=1,\n",
    "#     split_type='dataset'\n",
    "# )"
   ]
  },
  {
   "cell_type": "code",
   "execution_count": 31,
   "metadata": {},
   "outputs": [
    {
     "name": "stdout",
     "output_type": "stream",
     "text": [
      "MetaDataContainer :: Class\n",
      "  Items                             : 0 \n",
      "  Unique\n",
      "    Files                           : 0 \n",
      "    Scene labels                    : 0 \n",
      "    Event labels                    : 0 \n",
      "    Tags                            : 0 \n",
      "\n",
      "  Meta data\n",
      "        Source                  Onset   Offset   Scene             Event             Tags              Identifier   \n",
      "        --------------------   ------   ------   ---------------   ---------------   ---------------   -----   \n",
      "\n",
      "\n"
     ]
    }
   ],
   "source": [
    "### Getting meta data associated to the file:\n",
    "\n",
    "items = db.file_meta(filename='audio/b086_150_180.wav')\n",
    "print(items)\n",
    "# MetaDataContainer :: Class\n",
    "#   Items                             : 1\n",
    "#   Unique\n",
    "#     Files                           : 1\n",
    "#     Scene labels                    : 1\n",
    "#     Event labels                    : 0\n",
    "#     Tags                            : 0\n",
    "#\n",
    "#   Meta data\n",
    "#         Source                  Onset   Offset   Scene             Event             Tags              Identifier\n",
    "#         --------------------   ------   ------   ---------------   ---------------   ---------------   -----\n",
    "#         audio/b086_150_180..        -        -   grocery_store     -                 -                 -\n",
    "#\n",
    "#   Scene statistics\n",
    "#         Scene label             Count\n",
    "#         --------------------   ------\n",
    "#         grocery_store               1"
   ]
  }
 ],
 "metadata": {
  "kernelspec": {
   "display_name": "Python 3",
   "language": "python",
   "name": "python3"
  },
  "language_info": {
   "codemirror_mode": {
    "name": "ipython",
    "version": 3
   },
   "file_extension": ".py",
   "mimetype": "text/x-python",
   "name": "python",
   "nbconvert_exporter": "python",
   "pygments_lexer": "ipython3",
   "version": "3.6.5"
  }
 },
 "nbformat": 4,
 "nbformat_minor": 2
}
