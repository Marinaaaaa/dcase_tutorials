{
 "cells": [
  {
   "cell_type": "markdown",
   "metadata": {},
   "source": [
    "https://dcase-repo.github.io/dcase_util/tutorial_containers.html"
   ]
  },
  {
   "cell_type": "code",
   "execution_count": 1,
   "metadata": {},
   "outputs": [],
   "source": [
    "import dcase_util as du\n",
    "import numpy as np\n",
    "import matplotlib.pyplot as plt"
   ]
  },
  {
   "cell_type": "markdown",
   "metadata": {},
   "source": [
    "Dictionaries https://dcase-repo.github.io/dcase_util/tutorial_containers.html#dictionaries"
   ]
  },
  {
   "cell_type": "code",
   "execution_count": 2,
   "metadata": {},
   "outputs": [],
   "source": [
    "dict_container = du.containers.DictContainer(\n",
    "    {\n",
    "        'test': {\n",
    "            'field1': 1,\n",
    "            'field2': 2,\n",
    "        },\n",
    "        'test2': 100,\n",
    "        'test3': {\n",
    "            'field1': {\n",
    "                'fieldA': 1\n",
    "            },\n",
    "            'field2': {\n",
    "                'fieldA': 1\n",
    "            },\n",
    "            'field3': {\n",
    "                'fieldA': 1\n",
    "            },\n",
    "        }\n",
    "    }\n",
    ")"
   ]
  },
  {
   "cell_type": "code",
   "execution_count": 3,
   "metadata": {},
   "outputs": [
    {
     "name": "stdout",
     "output_type": "stream",
     "text": [
      "1\n",
      "[{'fieldA': 1}, {'fieldA': 1}, {'fieldA': 1}]\n",
      "default_value\n"
     ]
    }
   ],
   "source": [
    "# Field exists\n",
    "value = dict_container.get_path('test.field1')\n",
    "print(value)\n",
    "\n",
    "# Using wild card\n",
    "values = dict_container.get_path('test3.*')\n",
    "print(values)\n",
    "\n",
    "# Non existing field with default value\n",
    "value = dict_container.get_path('test.fieldA', 'default_value')\n",
    "print(value)"
   ]
  },
  {
   "cell_type": "code",
   "execution_count": 4,
   "metadata": {},
   "outputs": [
    {
     "name": "stdout",
     "output_type": "stream",
     "text": [
      "1\n",
      "default_value\n"
     ]
    }
   ],
   "source": [
    "# Field exists\n",
    "value = dict_container.get_path(['test', 'field1'])\n",
    "print(value)\n",
    "\n",
    "# Non existing field with default value\n",
    "value = dict_container.get_path(['test', 'fieldA'], 'default_value')\n",
    "print(value)"
   ]
  },
  {
   "cell_type": "code",
   "execution_count": 5,
   "metadata": {
    "scrolled": false
   },
   "outputs": [
    {
     "name": "stdout",
     "output_type": "stream",
     "text": [
      "DictContainer :: Class\n",
      "  filename                          : test.yaml \n",
      "  test\n",
      "    field1                          : 1\n",
      "    field2                          : 200\n",
      "  test2                             : 100\n",
      "  test3\n",
      "    field1\n",
      "      fieldA                        : 1\n",
      "    field2\n",
      "      fieldA                        : 1\n",
      "    field3\n",
      "      fieldA                        : 1\n",
      "\n"
     ]
    }
   ],
   "source": [
    "# Setting field through dotted path:\n",
    "dict_container.set_path('test.field2', 200)\n",
    "\n",
    "# Getting dotted path to all leaf nodes in the nested dictionary:\n",
    "dict_container.get_leaf_path_list()\n",
    "\n",
    "# Getting dotted path to all leaf nodes which starts with ‘field’ in the nested dictionary:\n",
    "dict_container.get_leaf_path_list(target_field_startswith='field')\n",
    "\n",
    "# To save the container into YAML-file:\n",
    "dict_container.save(filename='test.yaml')\n",
    "\n",
    "# To load the container data from YAML-file:\n",
    "dict_container.load(filename='test.yaml')\n",
    "print(dict_container)"
   ]
  },
  {
   "cell_type": "markdown",
   "metadata": {},
   "source": [
    "List of Dictionaries https://dcase-repo.github.io/dcase_util/tutorial_containers.html#list-of-dictionaries"
   ]
  },
  {
   "cell_type": "code",
   "execution_count": 6,
   "metadata": {},
   "outputs": [],
   "source": [
    "listdict_container = du.containers.ListDictContainer(\n",
    "    [\n",
    "        {'field1': 1, 'field2': 2},\n",
    "        {'field1': 10, 'field2': 20},\n",
    "        {'field1': 100, 'field2': 200},\n",
    "    ]\n",
    "\n",
    ")"
   ]
  },
  {
   "cell_type": "code",
   "execution_count": 7,
   "metadata": {
    "scrolled": true
   },
   "outputs": [
    {
     "name": "stdout",
     "output_type": "stream",
     "text": [
      "DictContainer :: Class\n",
      "  field1                            : 10\n",
      "  field2                            : 20\n",
      "\n",
      "[2, 20, 200]\n"
     ]
    }
   ],
   "source": [
    "# Access item in the list based on key and value:\n",
    "print(listdict_container.search(key='field1', value=10))\n",
    "\n",
    "# Getting values in specific field of the dictionaries:\n",
    "print(listdict_container.get_field(field_name='field2'))\n"
   ]
  },
  {
   "cell_type": "markdown",
   "metadata": {},
   "source": [
    "Data Containers https://dcase-repo.github.io/dcase_util/tutorial_containers.html#data-containers"
   ]
  },
  {
   "cell_type": "code",
   "execution_count": 8,
   "metadata": {},
   "outputs": [],
   "source": [
    "data_container = du.containers.DataMatrix2DContainer(\n",
    "  data=np.random.rand(10,100),\n",
    "  time_resolution=0.02\n",
    ")"
   ]
  },
  {
   "cell_type": "code",
   "execution_count": 9,
   "metadata": {},
   "outputs": [
    {
     "name": "stdout",
     "output_type": "stream",
     "text": [
      "(10, 100)\n"
     ]
    }
   ],
   "source": [
    "print(data_container.data.shape)"
   ]
  },
  {
   "cell_type": "code",
   "execution_count": 10,
   "metadata": {},
   "outputs": [
    {
     "name": "stdout",
     "output_type": "stream",
     "text": [
      "DataMatrix2DContainer :: Class\n",
      "  Data\n",
      "    data                            : matrix (10,100) \n",
      "    Dimensions\n",
      "      time_axis                     : 1 \n",
      "    Timing information\n",
      "      time_resolution               : 0.02 sec\n",
      "  Meta\n",
      "    stats                           : Calculated \n",
      "    metadata                        : - \n",
      "    processing_chain                : - \n",
      "  Duration\n",
      "    Frames                          : 100 \n",
      "    Seconds                         : 2.00 sec\n",
      "  Data\n",
      "    Dimensions\n",
      "      time_axis                     : 1 \n",
      "      data_axis                     : 0 \n",
      "\n"
     ]
    }
   ],
   "source": [
    "data_container.show()"
   ]
  },
  {
   "cell_type": "code",
   "execution_count": 11,
   "metadata": {},
   "outputs": [
    {
     "name": "stdout",
     "output_type": "stream",
     "text": [
      "(10, 25)\n"
     ]
    }
   ],
   "source": [
    "print(data_container.set_focus(start_seconds=0.5, stop_seconds=1.0).get_focused().shape)"
   ]
  },
  {
   "cell_type": "code",
   "execution_count": 12,
   "metadata": {},
   "outputs": [
    {
     "name": "stdout",
     "output_type": "stream",
     "text": [
      "(10, 40)\n"
     ]
    }
   ],
   "source": [
    "print(data_container.set_focus(start=10, stop=50).get_focused().shape)"
   ]
  },
  {
   "cell_type": "code",
   "execution_count": 13,
   "metadata": {},
   "outputs": [
    {
     "data": {
      "text/plain": [
       "array([[0.61051709, 0.98381377, 0.30329867, 0.526482  ],\n",
       "       [0.67130877, 0.37460935, 0.37456227, 0.4526802 ],\n",
       "       [0.13714757, 0.13932525, 0.85339085, 0.66468804],\n",
       "       [0.36685957, 0.24029906, 0.70780082, 0.15129926],\n",
       "       [0.356527  , 0.24283438, 0.97456343, 0.38213521],\n",
       "       [0.89578901, 0.48711317, 0.59422526, 0.47129739],\n",
       "       [0.59894259, 0.44993845, 0.34369989, 0.38607339],\n",
       "       [0.93135418, 0.71232461, 0.37302765, 0.43918417],\n",
       "       [0.65217541, 0.28807167, 0.09624426, 0.68283206],\n",
       "       [0.00694136, 0.98467039, 0.28370355, 0.57840194]])"
      ]
     },
     "execution_count": 13,
     "metadata": {},
     "output_type": "execute_result"
    }
   ],
   "source": [
    "data_container.get_frames(frame_ids=[1,2,10,30])"
   ]
  },
  {
   "cell_type": "code",
   "execution_count": 14,
   "metadata": {},
   "outputs": [
    {
     "data": {
      "text/plain": [
       "array([[0.61051709, 0.98381377, 0.49689415, 0.63794546, 0.83371444]])"
      ]
     },
     "execution_count": 14,
     "metadata": {},
     "output_type": "execute_result"
    }
   ],
   "source": [
    "data_container.get_frames(frame_ids=[1,2,3,4,5], vector_ids=[0])"
   ]
  },
  {
   "cell_type": "code",
   "execution_count": 15,
   "metadata": {},
   "outputs": [
    {
     "name": "stdout",
     "output_type": "stream",
     "text": [
      "(100, 10)\n"
     ]
    }
   ],
   "source": [
    "transposed_data = data_container.T\n",
    "print(transposed_data.shape)"
   ]
  },
  {
   "cell_type": "code",
   "execution_count": 16,
   "metadata": {},
   "outputs": [
    {
     "data": {
      "image/png": "[encoded data removed]",
      "text/plain": [
       "<Figure size 432x288 with 2 Axes>"
      ]
     },
     "metadata": {},
     "output_type": "display_data"
    }
   ],
   "source": [
    "data_container.plot()"
   ]
  },
  {
   "cell_type": "markdown",
   "metadata": {},
   "source": [
    "Repositories https://dcase-repo.github.io/dcase_util/tutorial_containers.html#repositories"
   ]
  },
  {
   "cell_type": "code",
   "execution_count": 17,
   "metadata": {},
   "outputs": [],
   "source": [
    "data_repository = du.containers.DataRepository(\n",
    "    data={\n",
    "        'label1': {\n",
    "            'stream0': {\n",
    "                'data': np.random.rand(10,10)\n",
    "            },\n",
    "            'stream1': {\n",
    "                'data': 200\n",
    "            }\n",
    "        },\n",
    "        'label2': {\n",
    "            'stream0': {\n",
    "                'data': 300\n",
    "            },\n",
    "            'stream1': {\n",
    "                'data': data_container\n",
    "            }\n",
    "        }\n",
    "    }\n",
    ")"
   ]
  },
  {
   "cell_type": "code",
   "execution_count": 18,
   "metadata": {},
   "outputs": [
    {
     "name": "stdout",
     "output_type": "stream",
     "text": [
      "DataRepository :: Class\n",
      "  Repository info\n",
      "    Item class                      : DataMatrix2DContainer \n",
      "    Item count                      : 2 \n",
      "    Labels                          : ['label1', 'label2'] \n",
      "  Content\n",
      "    [label1][stream0]               : {'data': array([[0.42324306, 0.38144741, 0.62836757, 0.94016492, 0.67630502,\n",
      "                                              0.65233616, 0.71434583, 0.13594444, 0.91263619, 0.07848622],\n",
      "                                             [0.98197505, 0.72823115, 0.57174518, 0.03078243, 0.79204918,\n",
      "                                              0.866959  , 0.38050826, 0.63903859, 0.41178069, 0.21286139],\n",
      "                                             [0.76939298, 0.61990138, 0.85171427, 0.26728557, 0.07063182,\n",
      "                                              0.4897628 , 0.22002281, 0.48969212, 0.44332664, 0.96798037],\n",
      "                                             [0.06665822, 0.79646213, 0.11853288, 0.42296997, 0.71858854,\n",
      "                                              0.71440416, 0.7987571 , 0.73709738, 0.17752949, 0.7169339 ],\n",
      "                                             [0.41254504, 0.40571364, 0.82716918, 0.38507349, 0.11768107,\n",
      "                                              0.30569169, 0.96907897, 0.19025832, 0.61480542, 0.77262901],\n",
      "                                             [0.50524424, 0.25478317, 0.02033124, 0.52212627, 0.51638631,\n",
      "                                              0.67510611, 0.75390601, 0.30160771, 0.60346585, 0.82327009],\n",
      "                                             [0.30018175, 0.77683424, 0.39612624, 0.22373067, 0.72248488,\n",
      "                                              0.32797187, 0.14852035, 0.45409474, 0.25605311, 0.53809703],\n",
      "                                             [0.61290189, 0.57654942, 0.11531359, 0.99073751, 0.33948486,\n",
      "                                              0.72761005, 0.60873014, 0.11522644, 0.59220176, 0.29819076],\n",
      "                                             [0.4807407 , 0.17007911, 0.55034414, 0.63925276, 0.69788103,\n",
      "                                              0.48603353, 0.74682032, 0.78094431, 0.70821768, 0.43910697],\n",
      "                                             [0.80083   , 0.7160848 , 0.64311668, 0.21901777, 0.68642295,\n",
      "                                              0.82991424, 0.13923514, 0.22797069, 0.34001205, 0.85401221]])} \n",
      "    [label1][stream1]               : {'data': 200} \n",
      "    [label2][stream0]               : {'data': 300} \n",
      "    [label2][stream1]               : {'data': <dcase_util.containers.data.DataMatrix2DContainer object at 0x000000001446D438>} \n",
      "\n",
      "\n"
     ]
    }
   ],
   "source": [
    "data_repository.show()"
   ]
  },
  {
   "cell_type": "code",
   "execution_count": 19,
   "metadata": {},
   "outputs": [
    {
     "data": {
      "text/plain": [
       "{'data': 200}"
      ]
     },
     "execution_count": 19,
     "metadata": {},
     "output_type": "execute_result"
    }
   ],
   "source": [
    "# Accessing data inside repository:\n",
    "data_repository.get_container(label='label1',stream_id='stream1')"
   ]
  },
  {
   "cell_type": "code",
   "execution_count": 20,
   "metadata": {},
   "outputs": [
    {
     "name": "stdout",
     "output_type": "stream",
     "text": [
      "DataRepository :: Class\n",
      "  Repository info\n",
      "    Item class                      : DataMatrix2DContainer \n",
      "    Item count                      : 3 \n",
      "    Labels                          : ['label1', 'label2', 'label3'] \n",
      "  Content\n",
      "    [label1][stream0]               : {'data': array([[0.42324306, 0.38144741, 0.62836757, 0.94016492, 0.67630502,\n",
      "                                              0.65233616, 0.71434583, 0.13594444, 0.91263619, 0.07848622],\n",
      "                                             [0.98197505, 0.72823115, 0.57174518, 0.03078243, 0.79204918,\n",
      "                                              0.866959  , 0.38050826, 0.63903859, 0.41178069, 0.21286139],\n",
      "                                             [0.76939298, 0.61990138, 0.85171427, 0.26728557, 0.07063182,\n",
      "                                              0.4897628 , 0.22002281, 0.48969212, 0.44332664, 0.96798037],\n",
      "                                             [0.06665822, 0.79646213, 0.11853288, 0.42296997, 0.71858854,\n",
      "                                              0.71440416, 0.7987571 , 0.73709738, 0.17752949, 0.7169339 ],\n",
      "                                             [0.41254504, 0.40571364, 0.82716918, 0.38507349, 0.11768107,\n",
      "                                              0.30569169, 0.96907897, 0.19025832, 0.61480542, 0.77262901],\n",
      "                                             [0.50524424, 0.25478317, 0.02033124, 0.52212627, 0.51638631,\n",
      "                                              0.67510611, 0.75390601, 0.30160771, 0.60346585, 0.82327009],\n",
      "                                             [0.30018175, 0.77683424, 0.39612624, 0.22373067, 0.72248488,\n",
      "                                              0.32797187, 0.14852035, 0.45409474, 0.25605311, 0.53809703],\n",
      "                                             [0.61290189, 0.57654942, 0.11531359, 0.99073751, 0.33948486,\n",
      "                                              0.72761005, 0.60873014, 0.11522644, 0.59220176, 0.29819076],\n",
      "                                             [0.4807407 , 0.17007911, 0.55034414, 0.63925276, 0.69788103,\n",
      "                                              0.48603353, 0.74682032, 0.78094431, 0.70821768, 0.43910697],\n",
      "                                             [0.80083   , 0.7160848 , 0.64311668, 0.21901777, 0.68642295,\n",
      "                                              0.82991424, 0.13923514, 0.22797069, 0.34001205, 0.85401221]])} \n",
      "    [label1][stream1]               : {'data': 200} \n",
      "    [label2][stream0]               : {'data': 300} \n",
      "    [label2][stream1]               : {'data': <dcase_util.containers.data.DataMatrix2DContainer object at 0x000000001446D438>} \n",
      "    [label3][stream0]               : {'data': 500} \n",
      "\n",
      "\n"
     ]
    }
   ],
   "source": [
    "# Setting data:\n",
    "data_repository.set_container(label='label3',stream_id='stream0', container={'data':500})\n",
    "data_repository.show()"
   ]
  },
  {
   "cell_type": "code",
   "execution_count": null,
   "metadata": {},
   "outputs": [],
   "source": []
  }
 ],
 "metadata": {
  "kernelspec": {
   "display_name": "Python 3",
   "language": "python",
   "name": "python3"
  },
  "language_info": {
   "codemirror_mode": {
    "name": "ipython",
    "version": 3
   },
   "file_extension": ".py",
   "mimetype": "text/x-python",
   "name": "python",
   "nbconvert_exporter": "python",
   "pygments_lexer": "ipython3",
   "version": "3.6.5"
  }
 },
 "nbformat": 4,
 "nbformat_minor": 2
}
