{
 "cells": [
  {
   "cell_type": "markdown",
   "metadata": {},
   "source": [
    "Metadata https://dcase-repo.github.io/dcase_util/tutorial_metadata.html#metadata\n",
    "\n",
    "Library provides container `dcase_util.containers.MetaDataContainer` for handling meta data from most of the DCASE related application areas: acoustic scene classification, event detection, and audio tagging."
   ]
  },
  {
   "cell_type": "code",
   "execution_count": 1,
   "metadata": {},
   "outputs": [],
   "source": [
    "import dcase_util as du\n",
    "import numpy as np\n",
    "import matplotlib.pyplot as plt\n",
    "import numpy.random as rnd\n",
    "import librosa\n",
    "import librosa.display as disp"
   ]
  },
  {
   "cell_type": "markdown",
   "metadata": {},
   "source": [
    "Creating Container https://dcase-repo.github.io/dcase_util/tutorial_metadata.html#creating-container"
   ]
  },
  {
   "cell_type": "code",
   "execution_count": 2,
   "metadata": {},
   "outputs": [
    {
     "name": "stdout",
     "output_type": "stream",
     "text": [
      "MetaDataContainer :: Class\n",
      "  Items                             : 3 \n",
      "  Unique\n",
      "    Files                           : 3 \n",
      "    Scene labels                    : 3 \n",
      "    Event labels                    : 0 \n",
      "    Tags                            : 0 \n",
      "\n",
      "  Meta data\n",
      "        Source                  Onset   Offset   Scene             Event             Tags              Identifier   \n",
      "        --------------------   ------   ------   ---------------   ---------------   ---------------   -----   \n",
      "        file1.wav                   -        -   office            -                 -                 -       \n",
      "        file2.wav                   -        -   street            -                 -                 -       \n",
      "        file3.wav                   -        -   home              -                 -                 -       \n",
      "\n",
      "  Scene statistics\n",
      "        Scene label             Count   Identifiers   \n",
      "        --------------------   ------   -----------   \n",
      "        home                        1             0   \n",
      "        office                      1             0   \n",
      "        street                      1             0   \n",
      "\n",
      "\n"
     ]
    }
   ],
   "source": [
    "### Initialize meta data container with acoustic scene list:\n",
    "\n",
    "meta_container_scenes = du.containers.MetaDataContainer(\n",
    "    [\n",
    "        {\n",
    "            'filename': 'file1.wav',\n",
    "            'scene_label': 'office'\n",
    "        },\n",
    "        {\n",
    "            'filename': 'file2.wav',\n",
    "            'scene_label': 'street'\n",
    "        },\n",
    "        {\n",
    "            'filename': 'file3.wav',\n",
    "            'scene_label': 'home'\n",
    "        }\n",
    "    ]\n",
    ")\n",
    "meta_container_scenes.show_all()"
   ]
  },
  {
   "cell_type": "code",
   "execution_count": 3,
   "metadata": {},
   "outputs": [
    {
     "name": "stdout",
     "output_type": "stream",
     "text": [
      "MetaDataContainer :: Class\n",
      "  Items                             : 3 \n",
      "  Unique\n",
      "    Files                           : 2 \n",
      "    Scene labels                    : 0 \n",
      "    Event labels                    : 2 \n",
      "    Tags                            : 0 \n",
      "\n",
      "  Meta data\n",
      "        Source                  Onset   Offset   Scene             Event             Tags              Identifier   \n",
      "        --------------------   ------   ------   ---------------   ---------------   ---------------   -----   \n",
      "        file1.wav               10.00    15.00   -                 speech            -                 -       \n",
      "        file1.wav               23.00    26.00   -                 footsteps         -                 -       \n",
      "        file2.wav                2.00     5.00   -                 speech            -                 -       \n",
      "\n",
      "  Event statistics\n",
      "        Event label             Count   Tot. Length   Avg. Length   \n",
      "        --------------------   ------   -----------   -----------   \n",
      "        footsteps                   1          3.00          3.00   \n",
      "        speech                      2          8.00          4.00   \n",
      "\n",
      "\n"
     ]
    }
   ],
   "source": [
    "### Initialize meta data container with sound event list:\n",
    "\n",
    "meta_container_events = du.containers.MetaDataContainer(\n",
    "    [\n",
    "        {\n",
    "            'filename': 'file1.wav',\n",
    "            'event_label': 'speech',\n",
    "            'onset': 10.0,\n",
    "            'offset': 15.0,\n",
    "        },\n",
    "        {\n",
    "            'filename': 'file1.wav',\n",
    "            'event_label': 'footsteps',\n",
    "            'onset': 23.0,\n",
    "            'offset': 26.0,\n",
    "        },\n",
    "        {\n",
    "            'filename': 'file2.wav',\n",
    "            'event_label': 'speech',\n",
    "            'onset': 2.0,\n",
    "            'offset': 5.0,\n",
    "        }\n",
    "    ]\n",
    ")\n",
    "meta_container_events.show_all()"
   ]
  },
  {
   "cell_type": "code",
   "execution_count": 4,
   "metadata": {},
   "outputs": [
    {
     "name": "stdout",
     "output_type": "stream",
     "text": [
      "MetaDataContainer :: Class\n",
      "  Items                             : 3 \n",
      "  Unique\n",
      "    Files                           : 3 \n",
      "    Scene labels                    : 0 \n",
      "    Event labels                    : 0 \n",
      "    Tags                            : 3 \n",
      "\n",
      "  Meta data\n",
      "        Source                  Onset   Offset   Scene             Event             Tags              Identifier   \n",
      "        --------------------   ------   ------   ---------------   ---------------   ---------------   -----   \n",
      "        file1.wav                   -        -   -                 -                 cat,dog           -       \n",
      "        file2.wav                   -        -   -                 -                 dog               -       \n",
      "        file3.wav                   -        -   -                 -                 dog,horse         -       \n",
      "\n",
      "  Tag statistics\n",
      "        Tag                     Count   \n",
      "        --------------------   ------   \n",
      "        cat                         1   \n",
      "        dog                         3   \n",
      "        horse                       1   \n",
      "\n",
      "\n"
     ]
    }
   ],
   "source": [
    "### Initialize meta data container with tags:\n",
    "\n",
    "meta_container_tags = du.containers.MetaDataContainer(\n",
    "    [\n",
    "        {\n",
    "            'filename': 'file1.wav',\n",
    "            'tags': ['cat','dog']\n",
    "        },\n",
    "        {\n",
    "            'filename': 'file2.wav',\n",
    "         'tags': ['dog']\n",
    "        },\n",
    "        {\n",
    "            'filename': 'file3.wav',\n",
    "            'tags': ['dog','horse']\n",
    "        }\n",
    "    ]\n",
    ")\n",
    "meta_container_tags.show_all()"
   ]
  },
  {
   "cell_type": "markdown",
   "metadata": {},
   "source": [
    "Loading and saving https://dcase-repo.github.io/dcase_util/tutorial_metadata.html#loading-and-saving"
   ]
  },
  {
   "cell_type": "code",
   "execution_count": 5,
   "metadata": {},
   "outputs": [],
   "source": [
    "### Save meta data to file:\n",
    "\n",
    "meta_container_events.save(filename='events.txt')\n",
    "\n",
    "### Load meta data from annotation file:\n",
    "\n",
    "meta_container_events = du.containers.MetaDataContainer().load(\n",
    "    filename='events.txt'\n",
    ")"
   ]
  },
  {
   "cell_type": "markdown",
   "metadata": {},
   "source": [
    "Accessing data https://dcase-repo.github.io/dcase_util/tutorial_metadata.html#accessing-data"
   ]
  },
  {
   "cell_type": "code",
   "execution_count": 6,
   "metadata": {},
   "outputs": [
    {
     "name": "stdout",
     "output_type": "stream",
     "text": [
      "['file1.wav', 'file2.wav']\n",
      "2\n",
      "['home', 'office', 'street']\n",
      "3\n",
      "['footsteps', 'speech']\n",
      "2\n",
      "['cat', 'dog', 'horse']\n",
      "3\n"
     ]
    }
   ],
   "source": [
    "### Getting audio files mentioned in the meta data and their count:\n",
    "\n",
    "print(meta_container_events.unique_files) # ['file1.wav', 'file2.wav']\n",
    "print(meta_container_events.file_count) # 2\n",
    "\n",
    "### Getting unique scene labels and their count:\n",
    "\n",
    "print(meta_container_scenes.unique_scene_labels) # ['home', 'office', 'street']\n",
    "print(meta_container_scenes.scene_label_count) # 3\n",
    "\n",
    "### Getting unique event labels used in the meta data and their count:\n",
    "\n",
    "print(meta_container_events.unique_event_labels) # ['footsteps', 'speech']\n",
    "print(meta_container_events.event_label_count) # 2\n",
    "\n",
    "### Getting unique tags used in the meta data and their count:\n",
    "\n",
    "print(meta_container_tags.unique_tags) # ['cat', 'dog', 'horse']\n",
    "print(meta_container_tags.tag_count) # 3"
   ]
  },
  {
   "cell_type": "markdown",
   "metadata": {},
   "source": [
    "Filtering https://dcase-repo.github.io/dcase_util/tutorial_metadata.html#filtering"
   ]
  },
  {
   "cell_type": "code",
   "execution_count": 7,
   "metadata": {},
   "outputs": [
    {
     "name": "stdout",
     "output_type": "stream",
     "text": [
      "MetaDataContainer :: Class\n",
      "  Items                             : 2 \n",
      "  Unique\n",
      "    Files                           : 1 \n",
      "    Scene labels                    : 0 \n",
      "    Event labels                    : 2 \n",
      "    Tags                            : 0 \n",
      "\n",
      "  Meta data\n",
      "        Source                  Onset   Offset   Scene             Event             Tags              Identifier   \n",
      "        --------------------   ------   ------   ---------------   ---------------   ---------------   -----   \n",
      "        file1.wav               10.00    15.00   -                 speech            -                 -       \n",
      "        file1.wav               23.00    26.00   -                 footsteps         -                 -       \n",
      "\n",
      "  Event statistics\n",
      "        Event label             Count   Tot. Length   Avg. Length   \n",
      "        --------------------   ------   -----------   -----------   \n",
      "        footsteps                   1          3.00          3.00   \n",
      "        speech                      1          5.00          5.00   \n",
      "\n",
      "\n"
     ]
    }
   ],
   "source": [
    "### Filtering meta data based on filename:\n",
    "\n",
    "filtered = meta_container_events.filter(filename='file1.wav')\n",
    "filtered.show_all()"
   ]
  },
  {
   "cell_type": "code",
   "execution_count": 8,
   "metadata": {},
   "outputs": [
    {
     "name": "stdout",
     "output_type": "stream",
     "text": [
      "MetaDataContainer :: Class\n",
      "  Items                             : 2 \n",
      "  Unique\n",
      "    Files                           : 2 \n",
      "    Scene labels                    : 0 \n",
      "    Event labels                    : 1 \n",
      "    Tags                            : 0 \n",
      "\n",
      "  Meta data\n",
      "        Source                  Onset   Offset   Scene             Event             Tags              Identifier   \n",
      "        --------------------   ------   ------   ---------------   ---------------   ---------------   -----   \n",
      "        file1.wav               10.00    15.00   -                 speech            -                 -       \n",
      "        file2.wav                2.00     5.00   -                 speech            -                 -       \n",
      "\n",
      "  Event statistics\n",
      "        Event label             Count   Tot. Length   Avg. Length   \n",
      "        --------------------   ------   -----------   -----------   \n",
      "        speech                      2          8.00          4.00   \n",
      "\n",
      "\n"
     ]
    }
   ],
   "source": [
    "### Filtering meta data based on event label:\n",
    "\n",
    "filtered = meta_container_events.filter(event_label='speech')\n",
    "filtered.show_all()"
   ]
  },
  {
   "cell_type": "code",
   "execution_count": 9,
   "metadata": {},
   "outputs": [
    {
     "name": "stdout",
     "output_type": "stream",
     "text": [
      "MetaDataContainer :: Class\n",
      "  Items                             : 1 \n",
      "  Unique\n",
      "    Files                           : 1 \n",
      "    Scene labels                    : 0 \n",
      "    Event labels                    : 1 \n",
      "    Tags                            : 0 \n",
      "\n",
      "  Meta data\n",
      "        Source                  Onset   Offset   Scene             Event             Tags              Identifier   \n",
      "        --------------------   ------   ------   ---------------   ---------------   ---------------   -----   \n",
      "        file1.wav               10.00    15.00   -                 speech            -                 -       \n",
      "\n",
      "  Event statistics\n",
      "        Event label             Count   Tot. Length   Avg. Length   \n",
      "        --------------------   ------   -----------   -----------   \n",
      "        speech                      1          5.00          5.00   \n",
      "\n",
      "\n"
     ]
    }
   ],
   "source": [
    "### Filtering meta data based on file and event label:\n",
    "\n",
    "filtered = meta_container_events.filter(filename='file1.wav', event_label='speech')\n",
    "filtered.show_all()"
   ]
  },
  {
   "cell_type": "code",
   "execution_count": 10,
   "metadata": {},
   "outputs": [
    {
     "name": "stdout",
     "output_type": "stream",
     "text": [
      "MetaDataContainer :: Class\n",
      "  Items                             : 2 \n",
      "  Unique\n",
      "    Files                           : 1 \n",
      "    Scene labels                    : 0 \n",
      "    Event labels                    : 2 \n",
      "    Tags                            : 0 \n",
      "\n",
      "  Meta data\n",
      "        Source                  Onset   Offset   Scene             Event             Tags              Identifier   \n",
      "        --------------------   ------   ------   ---------------   ---------------   ---------------   -----   \n",
      "        file1.wav                0.00     3.00   -                 speech            -                 -       \n",
      "        file1.wav               11.00    12.00   -                 footsteps         -                 -       \n",
      "\n",
      "  Event statistics\n",
      "        Event label             Count   Tot. Length   Avg. Length   \n",
      "        --------------------   ------   -----------   -----------   \n",
      "        footsteps                   1          1.00          1.00   \n",
      "        speech                      1          3.00          3.00   \n",
      "\n",
      "\n"
     ]
    }
   ],
   "source": [
    "### Filtering based on time segment, and make segment start new zero time:\n",
    "\n",
    "filtered = meta_container_events.filter_time_segment(filename='file1.wav', start=12, stop=24)\n",
    "filtered.show_all()"
   ]
  },
  {
   "cell_type": "markdown",
   "metadata": {},
   "source": [
    "Processing https://dcase-repo.github.io/dcase_util/tutorial_metadata.html#processing"
   ]
  },
  {
   "cell_type": "code",
   "execution_count": 11,
   "metadata": {
    "scrolled": false
   },
   "outputs": [
    {
     "name": "stdout",
     "output_type": "stream",
     "text": [
      "MetaDataContainer :: Class\n",
      "  Filename                          : events.txt \n",
      "  Items                             : 3 \n",
      "  Unique\n",
      "    Files                           : 2 \n",
      "    Scene labels                    : 0 \n",
      "    Event labels                    : 2 \n",
      "    Tags                            : 0 \n",
      "\n",
      "  Meta data\n",
      "        Source                  Onset   Offset   Scene             Event             Tags              Identifier   \n",
      "        --------------------   ------   ------   ---------------   ---------------   ---------------   -----   \n",
      "        file1.wav               30.00    35.00   -                 speech            -                 -       \n",
      "        file1.wav               43.00    46.00   -                 footsteps         -                 -       \n",
      "        file2.wav               22.00    25.00   -                 speech            -                 -       \n",
      "\n",
      "  Event statistics\n",
      "        Event label             Count   Tot. Length   Avg. Length   \n",
      "        --------------------   ------   -----------   -----------   \n",
      "        footsteps                   1          3.00          3.00   \n",
      "        speech                      2          8.00          4.00   \n",
      "\n",
      "\n"
     ]
    }
   ],
   "source": [
    "### Add time offset to the onset and offset set in the meta data items:\n",
    "\n",
    "meta_container_events.add_time(time=20)\n",
    "meta_container_events.show_all()"
   ]
  },
  {
   "cell_type": "code",
   "execution_count": 12,
   "metadata": {},
   "outputs": [
    {
     "name": "stdout",
     "output_type": "stream",
     "text": [
      "MetaDataContainer :: Class\n",
      "  Items                             : 3 \n",
      "  Unique\n",
      "    Files                           : 1 \n",
      "    Scene labels                    : 0 \n",
      "    Event labels                    : 1 \n",
      "    Tags                            : 0 \n",
      "\n",
      "  Meta data\n",
      "        Source                  Onset   Offset   Scene             Event             Tags              Identifier   \n",
      "        --------------------   ------   ------   ---------------   ---------------   ---------------   -----   \n",
      "        file1.wav                1.00     2.00   -                 speech            -                 -       \n",
      "        file1.wav                2.05     2.50   -                 speech            -                 -       \n",
      "        file1.wav                5.10     5.15   -                 speech            -                 -       \n",
      "\n",
      "  Event statistics\n",
      "        Event label             Count   Tot. Length   Avg. Length   \n",
      "        --------------------   ------   -----------   -----------   \n",
      "        speech                      3          1.50          0.50   \n",
      "\n",
      "\n",
      "MetaDataContainer :: Class\n",
      "  Items                             : 1 \n",
      "  Unique\n",
      "    Files                           : 1 \n",
      "    Scene labels                    : 0 \n",
      "    Event labels                    : 1 \n",
      "    Tags                            : 0 \n",
      "\n",
      "  Meta data\n",
      "        Source                  Onset   Offset   Scene             Event             Tags              Identifier   \n",
      "        --------------------   ------   ------   ---------------   ---------------   ---------------   -----   \n",
      "        file1.wav                1.00     2.50   -                 speech            -                 -       \n",
      "\n",
      "  Event statistics\n",
      "        Event label             Count   Tot. Length   Avg. Length   \n",
      "        --------------------   ------   -----------   -----------   \n",
      "        speech                      1          1.50          1.50   \n",
      "\n",
      "\n"
     ]
    }
   ],
   "source": [
    "### Remove very short events and merge events with small gap between them (same event label):\n",
    "\n",
    "meta_container_events = du.containers.MetaDataContainer(\n",
    "    [\n",
    "        {\n",
    "            'filename': 'file1.wav',\n",
    "            'event_label': 'speech',\n",
    "            'onset': 1.0,\n",
    "            'offset': 2.0,\n",
    "        },\n",
    "        {\n",
    "            'filename': 'file1.wav',\n",
    "            'event_label': 'speech',\n",
    "            'onset': 2.05,\n",
    "            'offset': 2.5,\n",
    "        },\n",
    "        {\n",
    "            'filename': 'file1.wav',\n",
    "            'event_label': 'speech',\n",
    "            'onset': 5.1,\n",
    "            'offset': 5.15,\n",
    "        },\n",
    "    ]\n",
    ")\n",
    "processed = meta_container_events.process_events(minimum_event_length=0.2, minimum_event_gap=0.1)\n",
    "\n",
    "# Print before and after\n",
    "meta_container_events.show_all()\n",
    "processed.show_all()"
   ]
  },
  {
   "cell_type": "markdown",
   "metadata": {},
   "source": [
    "Event Roll https://dcase-repo.github.io/dcase_util/tutorial_metadata.html#event-roll"
   ]
  },
  {
   "cell_type": "code",
   "execution_count": 13,
   "metadata": {},
   "outputs": [
    {
     "data": {
      "image/png": "[encoded data removed]",
      "text/plain": [
       "<Figure size 432x288 with 1 Axes>"
      ]
     },
     "metadata": {},
     "output_type": "display_data"
    }
   ],
   "source": [
    "### Converting event list to event roll (binary matrix with event activity):\n",
    "\n",
    "meta_container_events = du.containers.MetaDataContainer(\n",
    "    [\n",
    "        {\n",
    "            'filename': 'file1.wav',\n",
    "            'event_label': 'speech',\n",
    "            'onset': 1.0,\n",
    "            'offset': 2.0,\n",
    "        },\n",
    "        {\n",
    "            'filename': 'file1.wav',\n",
    "            'event_label': 'speech',\n",
    "            'onset': 2.05,\n",
    "            'offset': 2.5,\n",
    "        },\n",
    "        {\n",
    "            'filename': 'file1.wav',\n",
    "            'event_label': 'speech',\n",
    "            'onset': 5.1,\n",
    "            'offset': 5.15,\n",
    "        },\n",
    "        {\n",
    "            'filename': 'file1.wav',\n",
    "            'event_label': 'footsteps',\n",
    "            'onset': 3.1,\n",
    "            'offset': 4.15,\n",
    "        },\n",
    "        {\n",
    "            'filename': 'file1.wav',\n",
    "            'event_label': 'dog',\n",
    "            'onset': 2.6,\n",
    "            'offset': 3.6,\n",
    "        },\n",
    "    ]\n",
    ")\n",
    "event_roll = meta_container_events.to_event_roll()\n",
    "\n",
    "# Plot\n",
    "event_roll.plot()"
   ]
  }
 ],
 "metadata": {
  "kernelspec": {
   "display_name": "Python 3",
   "language": "python",
   "name": "python3"
  },
  "language_info": {
   "codemirror_mode": {
    "name": "ipython",
    "version": 3
   },
   "file_extension": ".py",
   "mimetype": "text/x-python",
   "name": "python",
   "nbconvert_exporter": "python",
   "pygments_lexer": "ipython3",
   "version": "3.6.5"
  }
 },
 "nbformat": 4,
 "nbformat_minor": 2
}
