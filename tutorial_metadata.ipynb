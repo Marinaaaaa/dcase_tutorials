{
 "cells": [
  {
   "cell_type": "markdown",
   "metadata": {},
   "source": [
    "Metadata https://dcase-repo.github.io/dcase_util/tutorial_metadata.html#metadata\n",
    "\n",
    "Library provides container `dcase_util.containers.MetaDataContainer` for handling meta data from most of the DCASE related application areas: acoustic scene classification, event detection, and audio tagging."
   ]
  },
  {
   "cell_type": "code",
   "execution_count": 1,
   "metadata": {},
   "outputs": [],
   "source": [
    "import dcase_util as du\n",
    "import numpy as np\n",
    "import matplotlib.pyplot as plt\n",
    "import numpy.random as rnd\n",
    "import librosa\n",
    "import librosa.display as disp"
   ]
  },
  {
   "cell_type": "markdown",
   "metadata": {},
   "source": [
    "Creating Container https://dcase-repo.github.io/dcase_util/tutorial_metadata.html#creating-container"
   ]
  },
  {
   "cell_type": "code",
   "execution_count": 2,
   "metadata": {},
   "outputs": [
    {
     "name": "stdout",
     "output_type": "stream",
     "text": [
      "MetaDataContainer :: Class\n",
      "  Items                             : 3 \n",
      "  Unique\n",
      "    Files                           : 3 \n",
      "    Scene labels                    : 3 \n",
      "    Event labels                    : 0 \n",
      "    Tags                            : 0 \n",
      "\n",
      "  Meta data\n",
      "        Source                  Onset   Offset   Scene             Event             Tags              Identifier   \n",
      "        --------------------   ------   ------   ---------------   ---------------   ---------------   -----   \n",
      "        file1.wav                   -        -   office            -                 -                 -       \n",
      "        file2.wav                   -        -   street            -                 -                 -       \n",
      "        file3.wav                   -        -   home              -                 -                 -       \n",
      "\n",
      "  Scene statistics\n",
      "        Scene label             Count   Identifiers   \n",
      "        --------------------   ------   -----------   \n",
      "        home                        1             0   \n",
      "        office                      1             0   \n",
      "        street                      1             0   \n",
      "\n",
      "\n"
     ]
    }
   ],
   "source": [
    "### Initialize meta data container with acoustic scene list:\n",
    "\n",
    "meta_container_scenes = du.containers.MetaDataContainer(\n",
    "    [\n",
    "        {\n",
    "            'filename': 'file1.wav',\n",
    "            'scene_label': 'office'\n",
    "        },\n",
    "        {\n",
    "            'filename': 'file2.wav',\n",
    "            'scene_label': 'street'\n",
    "        },\n",
    "        {\n",
    "            'filename': 'file3.wav',\n",
    "            'scene_label': 'home'\n",
    "        }\n",
    "    ]\n",
    ")\n",
    "meta_container_scenes.show_all()"
   ]
  },
  {
   "cell_type": "code",
   "execution_count": 3,
   "metadata": {},
   "outputs": [
    {
     "name": "stdout",
     "output_type": "stream",
     "text": [
      "MetaDataContainer :: Class\n",
      "  Items                             : 3 \n",
      "  Unique\n",
      "    Files                           : 2 \n",
      "    Scene labels                    : 0 \n",
      "    Event labels                    : 2 \n",
      "    Tags                            : 0 \n",
      "\n",
      "  Meta data\n",
      "        Source                  Onset   Offset   Scene             Event             Tags              Identifier   \n",
      "        --------------------   ------   ------   ---------------   ---------------   ---------------   -----   \n",
      "        file1.wav               10.00    15.00   -                 speech            -                 -       \n",
      "        file1.wav               23.00    26.00   -                 footsteps         -                 -       \n",
      "        file2.wav                2.00     5.00   -                 speech            -                 -       \n",
      "\n",
      "  Event statistics\n",
      "        Event label             Count   Tot. Length   Avg. Length   \n",
      "        --------------------   ------   -----------   -----------   \n",
      "        footsteps                   1          3.00          3.00   \n",
      "        speech                      2          8.00          4.00   \n",
      "\n",
      "\n"
     ]
    }
   ],
   "source": [
    "### Initialize meta data container with sound event list:\n",
    "\n",
    "meta_container_events = du.containers.MetaDataContainer(\n",
    "    [\n",
    "        {\n",
    "            'filename': 'file1.wav',\n",
    "            'event_label': 'speech',\n",
    "            'onset': 10.0,\n",
    "            'offset': 15.0,\n",
    "        },\n",
    "        {\n",
    "            'filename': 'file1.wav',\n",
    "            'event_label': 'footsteps',\n",
    "            'onset': 23.0,\n",
    "            'offset': 26.0,\n",
    "        },\n",
    "        {\n",
    "            'filename': 'file2.wav',\n",
    "            'event_label': 'speech',\n",
    "            'onset': 2.0,\n",
    "            'offset': 5.0,\n",
    "        }\n",
    "    ]\n",
    ")\n",
    "meta_container_events.show_all()"
   ]
  },
  {
   "cell_type": "code",
   "execution_count": 5,
   "metadata": {},
   "outputs": [
    {
     "name": "stdout",
     "output_type": "stream",
     "text": [
      "MetaDataContainer :: Class\n",
      "  Items                             : 3 \n",
      "  Unique\n",
      "    Files                           : 3 \n",
      "    Scene labels                    : 0 \n",
      "    Event labels                    : 0 \n",
      "    Tags                            : 3 \n",
      "\n",
      "  Meta data\n",
      "        Source                  Onset   Offset   Scene             Event             Tags              Identifier   \n",
      "        --------------------   ------   ------   ---------------   ---------------   ---------------   -----   \n",
      "        file1.wav                   -        -   -                 -                 cat,dog           -       \n",
      "        file2.wav                   -        -   -                 -                 dog               -       \n",
      "        file3.wav                   -        -   -                 -                 dog,horse         -       \n",
      "\n",
      "  Tag statistics\n",
      "        Tag                     Count   \n",
      "        --------------------   ------   \n",
      "        cat                         1   \n",
      "        dog                         3   \n",
      "        horse                       1   \n",
      "\n",
      "\n"
     ]
    }
   ],
   "source": [
    "### Initialize meta data container with tags:\n",
    "\n",
    "meta_container_tags = du.containers.MetaDataContainer(\n",
    "    [\n",
    "        {\n",
    "            'filename': 'file1.wav',\n",
    "            'tags': ['cat','dog']\n",
    "        },\n",
    "        {\n",
    "            'filename': 'file2.wav',\n",
    "         'tags': ['dog']\n",
    "        },\n",
    "        {\n",
    "            'filename': 'file3.wav',\n",
    "            'tags': ['dog','horse']\n",
    "        }\n",
    "    ]\n",
    ")\n",
    "meta_container_tags.show_all()"
   ]
  },
  {
   "cell_type": "markdown",
   "metadata": {},
   "source": [
    "Loading and saving https://dcase-repo.github.io/dcase_util/tutorial_metadata.html#loading-and-saving"
   ]
  },
  {
   "cell_type": "code",
   "execution_count": 7,
   "metadata": {},
   "outputs": [],
   "source": [
    "### Save meta data to file:\n",
    "\n",
    "meta_container_events.save(filename='events.txt')\n",
    "\n",
    "### Load meta data from annotation file:\n",
    "\n",
    "meta_container_events = du.containers.MetaDataContainer().load(\n",
    "    filename='events.txt'\n",
    ")"
   ]
  },
  {
   "cell_type": "markdown",
   "metadata": {},
   "source": [
    "Accessing data https://dcase-repo.github.io/dcase_util/tutorial_metadata.html#accessing-data"
   ]
  },
  {
   "cell_type": "code",
   "execution_count": 8,
   "metadata": {},
   "outputs": [
    {
     "name": "stdout",
     "output_type": "stream",
     "text": [
      "['file1.wav', 'file2.wav']\n",
      "2\n",
      "['home', 'office', 'street']\n",
      "3\n",
      "['footsteps', 'speech']\n",
      "0\n",
      "['cat', 'dog', 'horse']\n",
      "3\n"
     ]
    }
   ],
   "source": [
    "### Getting audio files mentioned in the meta data and their count:\n",
    "\n",
    "print(meta_container_events.unique_files)\n",
    "# ['file1.wav', 'file2.wav']\n",
    "\n",
    "print(meta_container_events.file_count)\n",
    "# 2\n",
    "\n",
    "### Getting unique scene labels and their count:\n",
    "\n",
    "print(meta_container_scenes.unique_scene_labels)\n",
    "# ['home', 'office', 'street']\n",
    "\n",
    "print(meta_container_scenes.scene_label_count)\n",
    "# 3\n",
    "\n",
    "### Getting unique event labels used in the meta data and their count:\n",
    "\n",
    "print(meta_container_events.unique_event_labels)\n",
    "# ['footsteps', 'speech']\n",
    "\n",
    "print(meta_container_scenes.event_label_count)\n",
    "# 2\n",
    "\n",
    "### Getting unique tags used in the meta data and their count:\n",
    "\n",
    "print(meta_container_tags.unique_tags)\n",
    "# ['cat', 'dog', 'horse']\n",
    "\n",
    "print(meta_container_tags.tag_count)\n",
    "# 3"
   ]
  },
  {
   "cell_type": "code",
   "execution_count": null,
   "metadata": {},
   "outputs": [],
   "source": []
  }
 ],
 "metadata": {
  "kernelspec": {
   "display_name": "Python 3",
   "language": "python",
   "name": "python3"
  },
  "language_info": {
   "codemirror_mode": {
    "name": "ipython",
    "version": 3
   },
   "file_extension": ".py",
   "mimetype": "text/x-python",
   "name": "python",
   "nbconvert_exporter": "python",
   "pygments_lexer": "ipython3",
   "version": "3.6.5"
  }
 },
 "nbformat": 4,
 "nbformat_minor": 2
}
